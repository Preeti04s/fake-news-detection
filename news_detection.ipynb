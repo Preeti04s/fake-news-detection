{
 "cells": [
  {
   "cell_type": "code",
   "execution_count": 103,
   "id": "b27b8be9",
   "metadata": {},
   "outputs": [],
   "source": [
    "#About the Dataset:\n",
    "\n",
    "#id: unique id for a news article\n",
    "#title: the title of a news article\n",
    "#author: author of the news article\n",
    "#text: the text of the article; could be incomplete\n",
    "#label: a label that marks whether the news article is real or fake:\n",
    "    #1: Fake news\n",
    "    #0: real News\n",
    "\n",
    "    \n",
    "#importing the rquired files for fake news detection\n"
   ]
  },
  {
   "cell_type": "code",
   "execution_count": 104,
   "id": "a0aff0a1",
   "metadata": {},
   "outputs": [],
   "source": [
    "import numpy as np\n",
    "import pandas as pd\n",
    "import re\n",
    "from nltk.corpus import stopwords\n",
    "from nltk.stem.porter import PorterStemmer\n",
    "from sklearn.feature_extraction.text import TfidfVectorizer\n",
    "from sklearn.model_selection import train_test_split\n",
    "from sklearn.svm import SVC\n",
    "from sklearn.preprocessing import StandardScaler\n",
    "from sklearn.naive_bayes import GaussianNB\n",
    "from sklearn.neighbors import KNeighborsClassifier\n",
    "from sklearn.linear_model import LogisticRegression\n",
    "from sklearn.metrics import accuracy_score"
   ]
  },
  {
   "cell_type": "code",
   "execution_count": 105,
   "id": "1dac8c92",
   "metadata": {},
   "outputs": [
    {
     "name": "stderr",
     "output_type": "stream",
     "text": [
      "[nltk_data] Downloading package stopwords to\n",
      "[nltk_data]     C:\\Users\\Lenovo\\AppData\\Roaming\\nltk_data...\n",
      "[nltk_data]   Package stopwords is already up-to-date!\n"
     ]
    },
    {
     "data": {
      "text/plain": [
       "True"
      ]
     },
     "execution_count": 105,
     "metadata": {},
     "output_type": "execute_result"
    }
   ],
   "source": [
    "import nltk\n",
    "nltk.download('stopwords')"
   ]
  },
  {
   "cell_type": "code",
   "execution_count": 106,
   "id": "57fa093a",
   "metadata": {},
   "outputs": [
    {
     "name": "stdout",
     "output_type": "stream",
     "text": [
      "['i', 'me', 'my', 'myself', 'we', 'our', 'ours', 'ourselves', 'you', \"you're\", \"you've\", \"you'll\", \"you'd\", 'your', 'yours', 'yourself', 'yourselves', 'he', 'him', 'his', 'himself', 'she', \"she's\", 'her', 'hers', 'herself', 'it', \"it's\", 'its', 'itself', 'they', 'them', 'their', 'theirs', 'themselves', 'what', 'which', 'who', 'whom', 'this', 'that', \"that'll\", 'these', 'those', 'am', 'is', 'are', 'was', 'were', 'be', 'been', 'being', 'have', 'has', 'had', 'having', 'do', 'does', 'did', 'doing', 'a', 'an', 'the', 'and', 'but', 'if', 'or', 'because', 'as', 'until', 'while', 'of', 'at', 'by', 'for', 'with', 'about', 'against', 'between', 'into', 'through', 'during', 'before', 'after', 'above', 'below', 'to', 'from', 'up', 'down', 'in', 'out', 'on', 'off', 'over', 'under', 'again', 'further', 'then', 'once', 'here', 'there', 'when', 'where', 'why', 'how', 'all', 'any', 'both', 'each', 'few', 'more', 'most', 'other', 'some', 'such', 'no', 'nor', 'not', 'only', 'own', 'same', 'so', 'than', 'too', 'very', 's', 't', 'can', 'will', 'just', 'don', \"don't\", 'should', \"should've\", 'now', 'd', 'll', 'm', 'o', 're', 've', 'y', 'ain', 'aren', \"aren't\", 'couldn', \"couldn't\", 'didn', \"didn't\", 'doesn', \"doesn't\", 'hadn', \"hadn't\", 'hasn', \"hasn't\", 'haven', \"haven't\", 'isn', \"isn't\", 'ma', 'mightn', \"mightn't\", 'mustn', \"mustn't\", 'needn', \"needn't\", 'shan', \"shan't\", 'shouldn', \"shouldn't\", 'wasn', \"wasn't\", 'weren', \"weren't\", 'won', \"won't\", 'wouldn', \"wouldn't\"]\n"
     ]
    }
   ],
   "source": [
    "# printing the stopwords in English\n",
    "print(stopwords.words('english'))"
   ]
  },
  {
   "cell_type": "code",
   "execution_count": 107,
   "id": "713eab2c",
   "metadata": {},
   "outputs": [],
   "source": [
    "# loading the dataset to a pandas DataFrame\n",
    "news_dataset = pd.read_csv('train.csv')"
   ]
  },
  {
   "cell_type": "code",
   "execution_count": 108,
   "id": "b95794b8",
   "metadata": {},
   "outputs": [
    {
     "data": {
      "text/plain": [
       "(20800, 5)"
      ]
     },
     "execution_count": 108,
     "metadata": {},
     "output_type": "execute_result"
    }
   ],
   "source": [
    "news_dataset.shape"
   ]
  },
  {
   "cell_type": "code",
   "execution_count": 109,
   "id": "639dc645",
   "metadata": {},
   "outputs": [
    {
     "data": {
      "text/html": [
       "<div>\n",
       "<style scoped>\n",
       "    .dataframe tbody tr th:only-of-type {\n",
       "        vertical-align: middle;\n",
       "    }\n",
       "\n",
       "    .dataframe tbody tr th {\n",
       "        vertical-align: top;\n",
       "    }\n",
       "\n",
       "    .dataframe thead th {\n",
       "        text-align: right;\n",
       "    }\n",
       "</style>\n",
       "<table border=\"1\" class=\"dataframe\">\n",
       "  <thead>\n",
       "    <tr style=\"text-align: right;\">\n",
       "      <th></th>\n",
       "      <th>id</th>\n",
       "      <th>title</th>\n",
       "      <th>author</th>\n",
       "      <th>text</th>\n",
       "      <th>label</th>\n",
       "    </tr>\n",
       "  </thead>\n",
       "  <tbody>\n",
       "    <tr>\n",
       "      <th>0</th>\n",
       "      <td>0</td>\n",
       "      <td>House Dem Aide: We Didn’t Even See Comey’s Let...</td>\n",
       "      <td>Darrell Lucus</td>\n",
       "      <td>House Dem Aide: We Didn’t Even See Comey’s Let...</td>\n",
       "      <td>1</td>\n",
       "    </tr>\n",
       "    <tr>\n",
       "      <th>1</th>\n",
       "      <td>1</td>\n",
       "      <td>FLYNN: Hillary Clinton, Big Woman on Campus - ...</td>\n",
       "      <td>Daniel J. Flynn</td>\n",
       "      <td>Ever get the feeling your life circles the rou...</td>\n",
       "      <td>0</td>\n",
       "    </tr>\n",
       "    <tr>\n",
       "      <th>2</th>\n",
       "      <td>2</td>\n",
       "      <td>Why the Truth Might Get You Fired</td>\n",
       "      <td>Consortiumnews.com</td>\n",
       "      <td>Why the Truth Might Get You Fired October 29, ...</td>\n",
       "      <td>1</td>\n",
       "    </tr>\n",
       "    <tr>\n",
       "      <th>3</th>\n",
       "      <td>3</td>\n",
       "      <td>15 Civilians Killed In Single US Airstrike Hav...</td>\n",
       "      <td>Jessica Purkiss</td>\n",
       "      <td>Videos 15 Civilians Killed In Single US Airstr...</td>\n",
       "      <td>1</td>\n",
       "    </tr>\n",
       "    <tr>\n",
       "      <th>4</th>\n",
       "      <td>4</td>\n",
       "      <td>Iranian woman jailed for fictional unpublished...</td>\n",
       "      <td>Howard Portnoy</td>\n",
       "      <td>Print \\nAn Iranian woman has been sentenced to...</td>\n",
       "      <td>1</td>\n",
       "    </tr>\n",
       "    <tr>\n",
       "      <th>5</th>\n",
       "      <td>5</td>\n",
       "      <td>Jackie Mason: Hollywood Would Love Trump if He...</td>\n",
       "      <td>Daniel Nussbaum</td>\n",
       "      <td>In these trying times, Jackie Mason is the Voi...</td>\n",
       "      <td>0</td>\n",
       "    </tr>\n",
       "    <tr>\n",
       "      <th>6</th>\n",
       "      <td>6</td>\n",
       "      <td>Life: Life Of Luxury: Elton John’s 6 Favorite ...</td>\n",
       "      <td>NaN</td>\n",
       "      <td>Ever wonder how Britain’s most iconic pop pian...</td>\n",
       "      <td>1</td>\n",
       "    </tr>\n",
       "    <tr>\n",
       "      <th>7</th>\n",
       "      <td>7</td>\n",
       "      <td>Benoît Hamon Wins French Socialist Party’s Pre...</td>\n",
       "      <td>Alissa J. Rubin</td>\n",
       "      <td>PARIS  —   France chose an idealistic, traditi...</td>\n",
       "      <td>0</td>\n",
       "    </tr>\n",
       "    <tr>\n",
       "      <th>8</th>\n",
       "      <td>8</td>\n",
       "      <td>Excerpts From a Draft Script for Donald Trump’...</td>\n",
       "      <td>NaN</td>\n",
       "      <td>Donald J. Trump is scheduled to make a highly ...</td>\n",
       "      <td>0</td>\n",
       "    </tr>\n",
       "    <tr>\n",
       "      <th>9</th>\n",
       "      <td>9</td>\n",
       "      <td>A Back-Channel Plan for Ukraine and Russia, Co...</td>\n",
       "      <td>Megan Twohey and Scott Shane</td>\n",
       "      <td>A week before Michael T. Flynn resigned as nat...</td>\n",
       "      <td>0</td>\n",
       "    </tr>\n",
       "    <tr>\n",
       "      <th>10</th>\n",
       "      <td>10</td>\n",
       "      <td>Obama’s Organizing for Action Partners with So...</td>\n",
       "      <td>Aaron Klein</td>\n",
       "      <td>Organizing for Action, the activist group that...</td>\n",
       "      <td>0</td>\n",
       "    </tr>\n",
       "    <tr>\n",
       "      <th>11</th>\n",
       "      <td>11</td>\n",
       "      <td>BBC Comedy Sketch \"Real Housewives of ISIS\" Ca...</td>\n",
       "      <td>Chris Tomlinson</td>\n",
       "      <td>The BBC produced spoof on the “Real Housewives...</td>\n",
       "      <td>0</td>\n",
       "    </tr>\n",
       "    <tr>\n",
       "      <th>12</th>\n",
       "      <td>12</td>\n",
       "      <td>Russian Researchers Discover Secret Nazi Milit...</td>\n",
       "      <td>Amando Flavio</td>\n",
       "      <td>The mystery surrounding The Third Reich and Na...</td>\n",
       "      <td>1</td>\n",
       "    </tr>\n",
       "    <tr>\n",
       "      <th>13</th>\n",
       "      <td>13</td>\n",
       "      <td>US Officials See No Link Between Trump and Russia</td>\n",
       "      <td>Jason Ditz</td>\n",
       "      <td>Clinton Campaign Demands FBI Affirm Trump's Ru...</td>\n",
       "      <td>1</td>\n",
       "    </tr>\n",
       "    <tr>\n",
       "      <th>14</th>\n",
       "      <td>14</td>\n",
       "      <td>Re: Yes, There Are Paid Government Trolls On S...</td>\n",
       "      <td>AnotherAnnie</td>\n",
       "      <td>Yes, There Are Paid Government Trolls On Socia...</td>\n",
       "      <td>1</td>\n",
       "    </tr>\n",
       "    <tr>\n",
       "      <th>15</th>\n",
       "      <td>15</td>\n",
       "      <td>In Major League Soccer, Argentines Find a Home...</td>\n",
       "      <td>Jack Williams</td>\n",
       "      <td>Guillermo Barros Schelotto was not the first A...</td>\n",
       "      <td>0</td>\n",
       "    </tr>\n",
       "    <tr>\n",
       "      <th>16</th>\n",
       "      <td>16</td>\n",
       "      <td>Wells Fargo Chief Abruptly Steps Down - The Ne...</td>\n",
       "      <td>Michael Corkery and Stacy Cowley</td>\n",
       "      <td>The scandal engulfing Wells Fargo toppled its ...</td>\n",
       "      <td>0</td>\n",
       "    </tr>\n",
       "    <tr>\n",
       "      <th>17</th>\n",
       "      <td>17</td>\n",
       "      <td>Anonymous Donor Pays $2.5 Million To Release E...</td>\n",
       "      <td>Starkman</td>\n",
       "      <td>A Caddo Nation tribal leader has just been fre...</td>\n",
       "      <td>1</td>\n",
       "    </tr>\n",
       "    <tr>\n",
       "      <th>18</th>\n",
       "      <td>18</td>\n",
       "      <td>FBI Closes In On Hillary!</td>\n",
       "      <td>The Doc</td>\n",
       "      <td>FBI Closes In On Hillary! Posted on Home » Hea...</td>\n",
       "      <td>1</td>\n",
       "    </tr>\n",
       "    <tr>\n",
       "      <th>19</th>\n",
       "      <td>19</td>\n",
       "      <td>Chuck Todd: ’BuzzFeed Did Donald Trump a Polit...</td>\n",
       "      <td>Jeff Poor</td>\n",
       "      <td>Wednesday after   Donald Trump’s press confere...</td>\n",
       "      <td>0</td>\n",
       "    </tr>\n",
       "    <tr>\n",
       "      <th>20</th>\n",
       "      <td>20</td>\n",
       "      <td>News: Hope For The GOP: A Nude Paul Ryan Has J...</td>\n",
       "      <td>NaN</td>\n",
       "      <td>Email \\nSince Donald Trump entered the electio...</td>\n",
       "      <td>1</td>\n",
       "    </tr>\n",
       "    <tr>\n",
       "      <th>21</th>\n",
       "      <td>21</td>\n",
       "      <td>Monica Lewinsky, Clinton Sex Scandal Set for ’...</td>\n",
       "      <td>Jerome Hudson</td>\n",
       "      <td>Screenwriter Ryan Murphy, who has produced the...</td>\n",
       "      <td>0</td>\n",
       "    </tr>\n",
       "    <tr>\n",
       "      <th>22</th>\n",
       "      <td>22</td>\n",
       "      <td>Rob Reiner: Trump Is ’Mentally Unstable’ - Bre...</td>\n",
       "      <td>Pam Key</td>\n",
       "      <td>Sunday on MSNBC’s “AM Joy,” actor and director...</td>\n",
       "      <td>0</td>\n",
       "    </tr>\n",
       "    <tr>\n",
       "      <th>23</th>\n",
       "      <td>23</td>\n",
       "      <td>Massachusetts Cop’s Wife Busted for Pinning Fa...</td>\n",
       "      <td>NaN</td>\n",
       "      <td>Massachusetts Cop’s Wife Busted for Pinning Fa...</td>\n",
       "      <td>1</td>\n",
       "    </tr>\n",
       "    <tr>\n",
       "      <th>24</th>\n",
       "      <td>24</td>\n",
       "      <td>Abortion Pill Orders Rise in 7 Latin American ...</td>\n",
       "      <td>Donald G. McNeil Jr. and Pam Belluck</td>\n",
       "      <td>Orders for abortion pills by women in seven La...</td>\n",
       "      <td>0</td>\n",
       "    </tr>\n",
       "    <tr>\n",
       "      <th>25</th>\n",
       "      <td>25</td>\n",
       "      <td>Nukes and the UN: a Historic Treaty to Ban Nuc...</td>\n",
       "      <td>Ira Helfand</td>\n",
       "      <td>Email \\nIn an historic move the United Nations...</td>\n",
       "      <td>1</td>\n",
       "    </tr>\n",
       "    <tr>\n",
       "      <th>26</th>\n",
       "      <td>26</td>\n",
       "      <td>EXCLUSIVE: Islamic State Supporters Vow to ‘Sh...</td>\n",
       "      <td>Aaron Klein and Ali Waked</td>\n",
       "      <td>JERUSALEM  —   Islamic State sympathizers and ...</td>\n",
       "      <td>0</td>\n",
       "    </tr>\n",
       "    <tr>\n",
       "      <th>27</th>\n",
       "      <td>27</td>\n",
       "      <td>Humiliated Hillary Tries To Hide What Camera C...</td>\n",
       "      <td>Amanda Shea</td>\n",
       "      <td>Humiliated Hillary Tries To Hide What Camera C...</td>\n",
       "      <td>1</td>\n",
       "    </tr>\n",
       "    <tr>\n",
       "      <th>28</th>\n",
       "      <td>28</td>\n",
       "      <td>Andrea Tantaros of Fox News Claims Retaliation...</td>\n",
       "      <td>Jim Dwyer</td>\n",
       "      <td>Andrea Tantaros, a former Fox News host, charg...</td>\n",
       "      <td>0</td>\n",
       "    </tr>\n",
       "    <tr>\n",
       "      <th>29</th>\n",
       "      <td>29</td>\n",
       "      <td>How Hillary Clinton Became a Hawk - The New Yo...</td>\n",
       "      <td>Mark Landler</td>\n",
       "      <td>Hillary Clinton sat in the hideaway study off ...</td>\n",
       "      <td>0</td>\n",
       "    </tr>\n",
       "    <tr>\n",
       "      <th>30</th>\n",
       "      <td>30</td>\n",
       "      <td>Chuck Todd to BuzzFeed EIC: ’You Just Publishe...</td>\n",
       "      <td>Ian Hanchett</td>\n",
       "      <td>During a discussion of BuzzFeed’s story on a d...</td>\n",
       "      <td>0</td>\n",
       "    </tr>\n",
       "    <tr>\n",
       "      <th>31</th>\n",
       "      <td>31</td>\n",
       "      <td>Israel is Becoming Pivotal to China’s Mid-East...</td>\n",
       "      <td>NaN</td>\n",
       "      <td>Country: Israel While China is silently playin...</td>\n",
       "      <td>1</td>\n",
       "    </tr>\n",
       "    <tr>\n",
       "      <th>32</th>\n",
       "      <td>32</td>\n",
       "      <td>Having Won, Boris Johnson and ‘Brexit’ Leaders...</td>\n",
       "      <td>Steven Erlanger</td>\n",
       "      <td>LONDON  —   With their giddy celebrations of “...</td>\n",
       "      <td>0</td>\n",
       "    </tr>\n",
       "    <tr>\n",
       "      <th>33</th>\n",
       "      <td>33</td>\n",
       "      <td>Texas Oil Fields Rebound From Price Lull, but ...</td>\n",
       "      <td>Clifford Krauss</td>\n",
       "      <td>MIDLAND, Tex.  —   In the land where oil jobs ...</td>\n",
       "      <td>0</td>\n",
       "    </tr>\n",
       "    <tr>\n",
       "      <th>34</th>\n",
       "      <td>34</td>\n",
       "      <td>Bayer Deal for Monsanto Follows Agribusiness T...</td>\n",
       "      <td>Leslie Picker, Danny Hakim and Michael J. de l...</td>\n",
       "      <td>Don Halcomb, a    farmer in Adairville, Ky. is...</td>\n",
       "      <td>0</td>\n",
       "    </tr>\n",
       "    <tr>\n",
       "      <th>35</th>\n",
       "      <td>35</td>\n",
       "      <td>Russia Moves to Ban Jehovah’s Witnesses as ‘Ex...</td>\n",
       "      <td>Andrew Higgins</td>\n",
       "      <td>VOROKHOBINO, Russia  —   A dedicated pacifist ...</td>\n",
       "      <td>0</td>\n",
       "    </tr>\n",
       "    <tr>\n",
       "      <th>36</th>\n",
       "      <td>36</td>\n",
       "      <td>Re: Why We Are Still In ‘The Danger Zone’ Unti...</td>\n",
       "      <td>greanfinisher .</td>\n",
       "      <td>Why We Are Still In ‘The Danger Zone’ Until Ja...</td>\n",
       "      <td>1</td>\n",
       "    </tr>\n",
       "    <tr>\n",
       "      <th>37</th>\n",
       "      <td>37</td>\n",
       "      <td>Open Thread (NOT U.S. Election) 2016-39</td>\n",
       "      <td>b</td>\n",
       "      <td>Open Thread (NOT U.S. Election) 2016-39 \\nNews...</td>\n",
       "      <td>1</td>\n",
       "    </tr>\n",
       "    <tr>\n",
       "      <th>38</th>\n",
       "      <td>38</td>\n",
       "      <td>Democrat Gutierrez Blames Chicago’s Gun Violen...</td>\n",
       "      <td>AWR Hawkins</td>\n",
       "      <td>Rep. Luis Gutierrez (  ) made the rounds on MS...</td>\n",
       "      <td>0</td>\n",
       "    </tr>\n",
       "    <tr>\n",
       "      <th>39</th>\n",
       "      <td>39</td>\n",
       "      <td>Avoiding Peanuts to Avoid an Allergy Is a Bad ...</td>\n",
       "      <td>Aaron E. Carroll</td>\n",
       "      <td>This article originally ran in April. We are r...</td>\n",
       "      <td>0</td>\n",
       "    </tr>\n",
       "    <tr>\n",
       "      <th>40</th>\n",
       "      <td>40</td>\n",
       "      <td>MRI Shows Detailed Images of 20-Week Unborn Ba...</td>\n",
       "      <td>Dr. Susan Berry</td>\n",
       "      <td>A newly developed MRI scan allows parents to s...</td>\n",
       "      <td>0</td>\n",
       "    </tr>\n",
       "    <tr>\n",
       "      <th>41</th>\n",
       "      <td>41</td>\n",
       "      <td>4 of the Best Kinds of Milk That Aren’t Dairy</td>\n",
       "      <td>Alexandria Laredo</td>\n",
       "      <td>Now, numerous studies have concluded that mi...</td>\n",
       "      <td>1</td>\n",
       "    </tr>\n",
       "    <tr>\n",
       "      <th>42</th>\n",
       "      <td>42</td>\n",
       "      <td>Ryan Lochte Dropped by Speedo USA and Other Re...</td>\n",
       "      <td>Katie Rogers</td>\n",
       "      <td>The fallout from Ryan Lochte’s story about bei...</td>\n",
       "      <td>0</td>\n",
       "    </tr>\n",
       "    <tr>\n",
       "      <th>43</th>\n",
       "      <td>43</td>\n",
       "      <td>Can I have one girlfriend without you bastards...</td>\n",
       "      <td>NaN</td>\n",
       "      <td>Can I have one girlfriend without you bastards...</td>\n",
       "      <td>1</td>\n",
       "    </tr>\n",
       "    <tr>\n",
       "      <th>44</th>\n",
       "      <td>44</td>\n",
       "      <td>Conservatives Urge Sessions to Clean Out Obama...</td>\n",
       "      <td>Ian Mason</td>\n",
       "      <td>A group of attorneys, scholars, and advocates ...</td>\n",
       "      <td>0</td>\n",
       "    </tr>\n",
       "    <tr>\n",
       "      <th>45</th>\n",
       "      <td>45</td>\n",
       "      <td>Internal Inquiry Sealed the Fate of Roger Aile...</td>\n",
       "      <td>Jim Rutenberg, Ben Protess and Emily Steel</td>\n",
       "      <td>Executives at 21st Century Fox decided to end ...</td>\n",
       "      <td>0</td>\n",
       "    </tr>\n",
       "    <tr>\n",
       "      <th>46</th>\n",
       "      <td>46</td>\n",
       "      <td>Press TV Debate: Duff on Lebanon, Hezbollah an...</td>\n",
       "      <td>Gordon Duff, Senior Editor</td>\n",
       "      <td>By Gordon Duff, Senior Editor on November 2, 2...</td>\n",
       "      <td>1</td>\n",
       "    </tr>\n",
       "    <tr>\n",
       "      <th>47</th>\n",
       "      <td>47</td>\n",
       "      <td>СМИ Сербии приписали россиянам \"подготовку тер...</td>\n",
       "      <td>NaN</td>\n",
       "      <td>0 комментариев 0 поделились Фото: AP \\nОднако ...</td>\n",
       "      <td>1</td>\n",
       "    </tr>\n",
       "    <tr>\n",
       "      <th>48</th>\n",
       "      <td>48</td>\n",
       "      <td>Samsung, After Combustible Galaxy Note 7, Unve...</td>\n",
       "      <td>Brian X. Chen</td>\n",
       "      <td>SAN FRANCISCO  —   Dogged by combustible smart...</td>\n",
       "      <td>0</td>\n",
       "    </tr>\n",
       "    <tr>\n",
       "      <th>49</th>\n",
       "      <td>49</td>\n",
       "      <td>Poland Vows Referendum on Migrant Quota Amidst...</td>\n",
       "      <td>Virginia Hale</td>\n",
       "      <td>“The public’s voice will be heard,” Poland’s p...</td>\n",
       "      <td>0</td>\n",
       "    </tr>\n",
       "  </tbody>\n",
       "</table>\n",
       "</div>"
      ],
      "text/plain": [
       "    id                                              title  \\\n",
       "0    0  House Dem Aide: We Didn’t Even See Comey’s Let...   \n",
       "1    1  FLYNN: Hillary Clinton, Big Woman on Campus - ...   \n",
       "2    2                  Why the Truth Might Get You Fired   \n",
       "3    3  15 Civilians Killed In Single US Airstrike Hav...   \n",
       "4    4  Iranian woman jailed for fictional unpublished...   \n",
       "5    5  Jackie Mason: Hollywood Would Love Trump if He...   \n",
       "6    6  Life: Life Of Luxury: Elton John’s 6 Favorite ...   \n",
       "7    7  Benoît Hamon Wins French Socialist Party’s Pre...   \n",
       "8    8  Excerpts From a Draft Script for Donald Trump’...   \n",
       "9    9  A Back-Channel Plan for Ukraine and Russia, Co...   \n",
       "10  10  Obama’s Organizing for Action Partners with So...   \n",
       "11  11  BBC Comedy Sketch \"Real Housewives of ISIS\" Ca...   \n",
       "12  12  Russian Researchers Discover Secret Nazi Milit...   \n",
       "13  13  US Officials See No Link Between Trump and Russia   \n",
       "14  14  Re: Yes, There Are Paid Government Trolls On S...   \n",
       "15  15  In Major League Soccer, Argentines Find a Home...   \n",
       "16  16  Wells Fargo Chief Abruptly Steps Down - The Ne...   \n",
       "17  17  Anonymous Donor Pays $2.5 Million To Release E...   \n",
       "18  18                          FBI Closes In On Hillary!   \n",
       "19  19  Chuck Todd: ’BuzzFeed Did Donald Trump a Polit...   \n",
       "20  20  News: Hope For The GOP: A Nude Paul Ryan Has J...   \n",
       "21  21  Monica Lewinsky, Clinton Sex Scandal Set for ’...   \n",
       "22  22  Rob Reiner: Trump Is ’Mentally Unstable’ - Bre...   \n",
       "23  23  Massachusetts Cop’s Wife Busted for Pinning Fa...   \n",
       "24  24  Abortion Pill Orders Rise in 7 Latin American ...   \n",
       "25  25  Nukes and the UN: a Historic Treaty to Ban Nuc...   \n",
       "26  26  EXCLUSIVE: Islamic State Supporters Vow to ‘Sh...   \n",
       "27  27  Humiliated Hillary Tries To Hide What Camera C...   \n",
       "28  28  Andrea Tantaros of Fox News Claims Retaliation...   \n",
       "29  29  How Hillary Clinton Became a Hawk - The New Yo...   \n",
       "30  30  Chuck Todd to BuzzFeed EIC: ’You Just Publishe...   \n",
       "31  31  Israel is Becoming Pivotal to China’s Mid-East...   \n",
       "32  32  Having Won, Boris Johnson and ‘Brexit’ Leaders...   \n",
       "33  33  Texas Oil Fields Rebound From Price Lull, but ...   \n",
       "34  34  Bayer Deal for Monsanto Follows Agribusiness T...   \n",
       "35  35  Russia Moves to Ban Jehovah’s Witnesses as ‘Ex...   \n",
       "36  36  Re: Why We Are Still In ‘The Danger Zone’ Unti...   \n",
       "37  37            Open Thread (NOT U.S. Election) 2016-39   \n",
       "38  38  Democrat Gutierrez Blames Chicago’s Gun Violen...   \n",
       "39  39  Avoiding Peanuts to Avoid an Allergy Is a Bad ...   \n",
       "40  40  MRI Shows Detailed Images of 20-Week Unborn Ba...   \n",
       "41  41      4 of the Best Kinds of Milk That Aren’t Dairy   \n",
       "42  42  Ryan Lochte Dropped by Speedo USA and Other Re...   \n",
       "43  43  Can I have one girlfriend without you bastards...   \n",
       "44  44  Conservatives Urge Sessions to Clean Out Obama...   \n",
       "45  45  Internal Inquiry Sealed the Fate of Roger Aile...   \n",
       "46  46  Press TV Debate: Duff on Lebanon, Hezbollah an...   \n",
       "47  47  СМИ Сербии приписали россиянам \"подготовку тер...   \n",
       "48  48  Samsung, After Combustible Galaxy Note 7, Unve...   \n",
       "49  49  Poland Vows Referendum on Migrant Quota Amidst...   \n",
       "\n",
       "                                               author  \\\n",
       "0                                       Darrell Lucus   \n",
       "1                                     Daniel J. Flynn   \n",
       "2                                  Consortiumnews.com   \n",
       "3                                     Jessica Purkiss   \n",
       "4                                      Howard Portnoy   \n",
       "5                                     Daniel Nussbaum   \n",
       "6                                                 NaN   \n",
       "7                                     Alissa J. Rubin   \n",
       "8                                                 NaN   \n",
       "9                        Megan Twohey and Scott Shane   \n",
       "10                                        Aaron Klein   \n",
       "11                                    Chris Tomlinson   \n",
       "12                                      Amando Flavio   \n",
       "13                                         Jason Ditz   \n",
       "14                                       AnotherAnnie   \n",
       "15                                      Jack Williams   \n",
       "16                   Michael Corkery and Stacy Cowley   \n",
       "17                                           Starkman   \n",
       "18                                            The Doc   \n",
       "19                                          Jeff Poor   \n",
       "20                                                NaN   \n",
       "21                                      Jerome Hudson   \n",
       "22                                            Pam Key   \n",
       "23                                                NaN   \n",
       "24               Donald G. McNeil Jr. and Pam Belluck   \n",
       "25                                        Ira Helfand   \n",
       "26                          Aaron Klein and Ali Waked   \n",
       "27                                        Amanda Shea   \n",
       "28                                          Jim Dwyer   \n",
       "29                                       Mark Landler   \n",
       "30                                       Ian Hanchett   \n",
       "31                                                NaN   \n",
       "32                                    Steven Erlanger   \n",
       "33                                    Clifford Krauss   \n",
       "34  Leslie Picker, Danny Hakim and Michael J. de l...   \n",
       "35                                     Andrew Higgins   \n",
       "36                                    greanfinisher .   \n",
       "37                                                  b   \n",
       "38                                        AWR Hawkins   \n",
       "39                                   Aaron E. Carroll   \n",
       "40                                    Dr. Susan Berry   \n",
       "41                                  Alexandria Laredo   \n",
       "42                                       Katie Rogers   \n",
       "43                                                NaN   \n",
       "44                                          Ian Mason   \n",
       "45         Jim Rutenberg, Ben Protess and Emily Steel   \n",
       "46                         Gordon Duff, Senior Editor   \n",
       "47                                                NaN   \n",
       "48                                      Brian X. Chen   \n",
       "49                                      Virginia Hale   \n",
       "\n",
       "                                                 text  label  \n",
       "0   House Dem Aide: We Didn’t Even See Comey’s Let...      1  \n",
       "1   Ever get the feeling your life circles the rou...      0  \n",
       "2   Why the Truth Might Get You Fired October 29, ...      1  \n",
       "3   Videos 15 Civilians Killed In Single US Airstr...      1  \n",
       "4   Print \\nAn Iranian woman has been sentenced to...      1  \n",
       "5   In these trying times, Jackie Mason is the Voi...      0  \n",
       "6   Ever wonder how Britain’s most iconic pop pian...      1  \n",
       "7   PARIS  —   France chose an idealistic, traditi...      0  \n",
       "8   Donald J. Trump is scheduled to make a highly ...      0  \n",
       "9   A week before Michael T. Flynn resigned as nat...      0  \n",
       "10  Organizing for Action, the activist group that...      0  \n",
       "11  The BBC produced spoof on the “Real Housewives...      0  \n",
       "12  The mystery surrounding The Third Reich and Na...      1  \n",
       "13  Clinton Campaign Demands FBI Affirm Trump's Ru...      1  \n",
       "14  Yes, There Are Paid Government Trolls On Socia...      1  \n",
       "15  Guillermo Barros Schelotto was not the first A...      0  \n",
       "16  The scandal engulfing Wells Fargo toppled its ...      0  \n",
       "17  A Caddo Nation tribal leader has just been fre...      1  \n",
       "18  FBI Closes In On Hillary! Posted on Home » Hea...      1  \n",
       "19  Wednesday after   Donald Trump’s press confere...      0  \n",
       "20  Email \\nSince Donald Trump entered the electio...      1  \n",
       "21  Screenwriter Ryan Murphy, who has produced the...      0  \n",
       "22  Sunday on MSNBC’s “AM Joy,” actor and director...      0  \n",
       "23  Massachusetts Cop’s Wife Busted for Pinning Fa...      1  \n",
       "24  Orders for abortion pills by women in seven La...      0  \n",
       "25  Email \\nIn an historic move the United Nations...      1  \n",
       "26  JERUSALEM  —   Islamic State sympathizers and ...      0  \n",
       "27  Humiliated Hillary Tries To Hide What Camera C...      1  \n",
       "28  Andrea Tantaros, a former Fox News host, charg...      0  \n",
       "29  Hillary Clinton sat in the hideaway study off ...      0  \n",
       "30  During a discussion of BuzzFeed’s story on a d...      0  \n",
       "31  Country: Israel While China is silently playin...      1  \n",
       "32  LONDON  —   With their giddy celebrations of “...      0  \n",
       "33  MIDLAND, Tex.  —   In the land where oil jobs ...      0  \n",
       "34  Don Halcomb, a    farmer in Adairville, Ky. is...      0  \n",
       "35  VOROKHOBINO, Russia  —   A dedicated pacifist ...      0  \n",
       "36  Why We Are Still In ‘The Danger Zone’ Until Ja...      1  \n",
       "37  Open Thread (NOT U.S. Election) 2016-39 \\nNews...      1  \n",
       "38  Rep. Luis Gutierrez (  ) made the rounds on MS...      0  \n",
       "39  This article originally ran in April. We are r...      0  \n",
       "40  A newly developed MRI scan allows parents to s...      0  \n",
       "41    Now, numerous studies have concluded that mi...      1  \n",
       "42  The fallout from Ryan Lochte’s story about bei...      0  \n",
       "43  Can I have one girlfriend without you bastards...      1  \n",
       "44  A group of attorneys, scholars, and advocates ...      0  \n",
       "45  Executives at 21st Century Fox decided to end ...      0  \n",
       "46  By Gordon Duff, Senior Editor on November 2, 2...      1  \n",
       "47  0 комментариев 0 поделились Фото: AP \\nОднако ...      1  \n",
       "48  SAN FRANCISCO  —   Dogged by combustible smart...      0  \n",
       "49  “The public’s voice will be heard,” Poland’s p...      0  "
      ]
     },
     "execution_count": 109,
     "metadata": {},
     "output_type": "execute_result"
    }
   ],
   "source": [
    "# print the first 5 rows of the dataframe\n",
    "news_dataset.head(50)"
   ]
  },
  {
   "cell_type": "code",
   "execution_count": 110,
   "id": "5d72bd3e",
   "metadata": {},
   "outputs": [
    {
     "data": {
      "text/plain": [
       "id           0\n",
       "title      558\n",
       "author    1957\n",
       "text        39\n",
       "label        0\n",
       "dtype: int64"
      ]
     },
     "execution_count": 110,
     "metadata": {},
     "output_type": "execute_result"
    }
   ],
   "source": [
    "# counting the number of missing values in the dataset\n",
    "news_dataset.isnull().sum()"
   ]
  },
  {
   "cell_type": "code",
   "execution_count": 111,
   "id": "15f7a0b4",
   "metadata": {},
   "outputs": [],
   "source": [
    "# replacing the null values with empty string\n",
    "news_dataset = news_dataset.fillna('')"
   ]
  },
  {
   "cell_type": "code",
   "execution_count": 112,
   "id": "82ca91df",
   "metadata": {},
   "outputs": [],
   "source": [
    "# merging the author name and news title\n",
    "news_dataset['content'] = news_dataset['author']+' '+news_dataset['title']"
   ]
  },
  {
   "cell_type": "code",
   "execution_count": 113,
   "id": "8f2563a3",
   "metadata": {},
   "outputs": [
    {
     "name": "stdout",
     "output_type": "stream",
     "text": [
      "0        Darrell Lucus House Dem Aide: We Didn’t Even S...\n",
      "1        Daniel J. Flynn FLYNN: Hillary Clinton, Big Wo...\n",
      "2        Consortiumnews.com Why the Truth Might Get You...\n",
      "3        Jessica Purkiss 15 Civilians Killed In Single ...\n",
      "4        Howard Portnoy Iranian woman jailed for fictio...\n",
      "                               ...                        \n",
      "20795    Jerome Hudson Rapper T.I.: Trump a ’Poster Chi...\n",
      "20796    Benjamin Hoffman N.F.L. Playoffs: Schedule, Ma...\n",
      "20797    Michael J. de la Merced and Rachel Abrams Macy...\n",
      "20798    Alex Ansary NATO, Russia To Hold Parallel Exer...\n",
      "20799              David Swanson What Keeps the F-35 Alive\n",
      "Name: content, Length: 20800, dtype: object\n"
     ]
    }
   ],
   "source": [
    "print(news_dataset['content'])"
   ]
  },
  {
   "cell_type": "code",
   "execution_count": 114,
   "id": "d925cb3d",
   "metadata": {},
   "outputs": [],
   "source": [
    "# separating the data & label\n",
    "X = news_dataset.drop(columns='label', axis=1)\n",
    "Y = news_dataset['label']"
   ]
  },
  {
   "cell_type": "code",
   "execution_count": 115,
   "id": "661b8eaa",
   "metadata": {},
   "outputs": [
    {
     "name": "stdout",
     "output_type": "stream",
     "text": [
      "          id                                              title  \\\n",
      "0          0  House Dem Aide: We Didn’t Even See Comey’s Let...   \n",
      "1          1  FLYNN: Hillary Clinton, Big Woman on Campus - ...   \n",
      "2          2                  Why the Truth Might Get You Fired   \n",
      "3          3  15 Civilians Killed In Single US Airstrike Hav...   \n",
      "4          4  Iranian woman jailed for fictional unpublished...   \n",
      "...      ...                                                ...   \n",
      "20795  20795  Rapper T.I.: Trump a ’Poster Child For White S...   \n",
      "20796  20796  N.F.L. Playoffs: Schedule, Matchups and Odds -...   \n",
      "20797  20797  Macy’s Is Said to Receive Takeover Approach by...   \n",
      "20798  20798  NATO, Russia To Hold Parallel Exercises In Bal...   \n",
      "20799  20799                          What Keeps the F-35 Alive   \n",
      "\n",
      "                                          author  \\\n",
      "0                                  Darrell Lucus   \n",
      "1                                Daniel J. Flynn   \n",
      "2                             Consortiumnews.com   \n",
      "3                                Jessica Purkiss   \n",
      "4                                 Howard Portnoy   \n",
      "...                                          ...   \n",
      "20795                              Jerome Hudson   \n",
      "20796                           Benjamin Hoffman   \n",
      "20797  Michael J. de la Merced and Rachel Abrams   \n",
      "20798                                Alex Ansary   \n",
      "20799                              David Swanson   \n",
      "\n",
      "                                                    text  \\\n",
      "0      House Dem Aide: We Didn’t Even See Comey’s Let...   \n",
      "1      Ever get the feeling your life circles the rou...   \n",
      "2      Why the Truth Might Get You Fired October 29, ...   \n",
      "3      Videos 15 Civilians Killed In Single US Airstr...   \n",
      "4      Print \\nAn Iranian woman has been sentenced to...   \n",
      "...                                                  ...   \n",
      "20795  Rapper T. I. unloaded on black celebrities who...   \n",
      "20796  When the Green Bay Packers lost to the Washing...   \n",
      "20797  The Macy’s of today grew from the union of sev...   \n",
      "20798  NATO, Russia To Hold Parallel Exercises In Bal...   \n",
      "20799    David Swanson is an author, activist, journa...   \n",
      "\n",
      "                                                 content  \n",
      "0      Darrell Lucus House Dem Aide: We Didn’t Even S...  \n",
      "1      Daniel J. Flynn FLYNN: Hillary Clinton, Big Wo...  \n",
      "2      Consortiumnews.com Why the Truth Might Get You...  \n",
      "3      Jessica Purkiss 15 Civilians Killed In Single ...  \n",
      "4      Howard Portnoy Iranian woman jailed for fictio...  \n",
      "...                                                  ...  \n",
      "20795  Jerome Hudson Rapper T.I.: Trump a ’Poster Chi...  \n",
      "20796  Benjamin Hoffman N.F.L. Playoffs: Schedule, Ma...  \n",
      "20797  Michael J. de la Merced and Rachel Abrams Macy...  \n",
      "20798  Alex Ansary NATO, Russia To Hold Parallel Exer...  \n",
      "20799            David Swanson What Keeps the F-35 Alive  \n",
      "\n",
      "[20800 rows x 5 columns]\n",
      "0        1\n",
      "1        0\n",
      "2        1\n",
      "3        1\n",
      "4        1\n",
      "        ..\n",
      "20795    0\n",
      "20796    0\n",
      "20797    0\n",
      "20798    1\n",
      "20799    1\n",
      "Name: label, Length: 20800, dtype: int64\n"
     ]
    }
   ],
   "source": [
    "print(X)\n",
    "print(Y)"
   ]
  },
  {
   "cell_type": "code",
   "execution_count": 116,
   "id": "fef12abc",
   "metadata": {},
   "outputs": [],
   "source": [
    "#Stemming:\n",
    "\n",
    "#Stemming is the process of reducing a word to its Root word\n",
    "\n",
    "#example: actor, actress, acting --> act"
   ]
  },
  {
   "cell_type": "code",
   "execution_count": 117,
   "id": "3e0e4b2c",
   "metadata": {},
   "outputs": [],
   "source": [
    "port_stem = PorterStemmer()"
   ]
  },
  {
   "cell_type": "code",
   "execution_count": 118,
   "id": "f8e578a8",
   "metadata": {},
   "outputs": [],
   "source": [
    "def stemming(content):\n",
    "    stemmed_content = re.sub('[^a-zA-Z]',' ',content)\n",
    "    stemmed_content = stemmed_content.lower()\n",
    "    stemmed_content = stemmed_content.split()\n",
    "    stemmed_content = [port_stem.stem(word) for word in stemmed_content if not word in stopwords.words('english')]\n",
    "    stemmed_content = ' '.join(stemmed_content)\n",
    "    return stemmed_content"
   ]
  },
  {
   "cell_type": "code",
   "execution_count": 119,
   "id": "28a0aef4",
   "metadata": {},
   "outputs": [],
   "source": [
    "news_dataset['content'] = news_dataset['content'].apply(stemming)"
   ]
  },
  {
   "cell_type": "code",
   "execution_count": 120,
   "id": "553d93dc",
   "metadata": {},
   "outputs": [
    {
     "name": "stdout",
     "output_type": "stream",
     "text": [
      "0        darrel lucu hous dem aid even see comey letter...\n",
      "1        daniel j flynn flynn hillari clinton big woman...\n",
      "2                   consortiumnew com truth might get fire\n",
      "3        jessica purkiss civilian kill singl us airstri...\n",
      "4        howard portnoy iranian woman jail fiction unpu...\n",
      "                               ...                        \n",
      "20795    jerom hudson rapper trump poster child white s...\n",
      "20796    benjamin hoffman n f l playoff schedul matchup...\n",
      "20797    michael j de la merc rachel abram maci said re...\n",
      "20798    alex ansari nato russia hold parallel exercis ...\n",
      "20799                            david swanson keep f aliv\n",
      "Name: content, Length: 20800, dtype: object\n"
     ]
    }
   ],
   "source": [
    "print(news_dataset['content'])"
   ]
  },
  {
   "cell_type": "code",
   "execution_count": 121,
   "id": "3fa5600e",
   "metadata": {},
   "outputs": [],
   "source": [
    "#separating the data and label\n",
    "X = news_dataset['content'].values\n",
    "Y = news_dataset['label'].values"
   ]
  },
  {
   "cell_type": "code",
   "execution_count": 122,
   "id": "ef554eef",
   "metadata": {},
   "outputs": [
    {
     "name": "stdout",
     "output_type": "stream",
     "text": [
      "['darrel lucu hous dem aid even see comey letter jason chaffetz tweet'\n",
      " 'daniel j flynn flynn hillari clinton big woman campu breitbart'\n",
      " 'consortiumnew com truth might get fire' ...\n",
      " 'michael j de la merc rachel abram maci said receiv takeov approach hudson bay new york time'\n",
      " 'alex ansari nato russia hold parallel exercis balkan'\n",
      " 'david swanson keep f aliv']\n"
     ]
    }
   ],
   "source": [
    "print(X)"
   ]
  },
  {
   "cell_type": "code",
   "execution_count": 123,
   "id": "15421bc0",
   "metadata": {},
   "outputs": [
    {
     "name": "stdout",
     "output_type": "stream",
     "text": [
      "[1 0 1 ... 0 1 1]\n"
     ]
    }
   ],
   "source": [
    "print(Y)"
   ]
  },
  {
   "cell_type": "code",
   "execution_count": 124,
   "id": "1c8933e1",
   "metadata": {},
   "outputs": [
    {
     "data": {
      "text/plain": [
       "(20800,)"
      ]
     },
     "execution_count": 124,
     "metadata": {},
     "output_type": "execute_result"
    }
   ],
   "source": [
    "Y.shape"
   ]
  },
  {
   "cell_type": "code",
   "execution_count": 125,
   "id": "2628bdbd",
   "metadata": {},
   "outputs": [],
   "source": [
    "# converting the textual data to numerical data\n",
    "vectorizer = TfidfVectorizer()\n",
    "vectorizer.fit(X)\n",
    "\n",
    "X = vectorizer.transform(X)"
   ]
  },
  {
   "cell_type": "code",
   "execution_count": 126,
   "id": "1b352b7b",
   "metadata": {},
   "outputs": [
    {
     "name": "stdout",
     "output_type": "stream",
     "text": [
      "  (0, 15686)\t0.28485063562728646\n",
      "  (0, 13473)\t0.2565896679337957\n",
      "  (0, 8909)\t0.3635963806326075\n",
      "  (0, 8630)\t0.29212514087043684\n",
      "  (0, 7692)\t0.24785219520671603\n",
      "  (0, 7005)\t0.21874169089359144\n",
      "  (0, 4973)\t0.233316966909351\n",
      "  (0, 3792)\t0.2705332480845492\n",
      "  (0, 3600)\t0.3598939188262559\n",
      "  (0, 2959)\t0.2468450128533713\n",
      "  (0, 2483)\t0.3676519686797209\n",
      "  (0, 267)\t0.27010124977708766\n",
      "  (1, 16799)\t0.30071745655510157\n",
      "  (1, 6816)\t0.1904660198296849\n",
      "  (1, 5503)\t0.7143299355715573\n",
      "  (1, 3568)\t0.26373768806048464\n",
      "  (1, 2813)\t0.19094574062359204\n",
      "  (1, 2223)\t0.3827320386859759\n",
      "  (1, 1894)\t0.15521974226349364\n",
      "  (1, 1497)\t0.2939891562094648\n",
      "  (2, 15611)\t0.41544962664721613\n",
      "  (2, 9620)\t0.49351492943649944\n",
      "  (2, 5968)\t0.3474613386728292\n",
      "  (2, 5389)\t0.3866530551182615\n",
      "  (2, 3103)\t0.46097489583229645\n",
      "  :\t:\n",
      "  (20797, 13122)\t0.2482526352197606\n",
      "  (20797, 12344)\t0.27263457663336677\n",
      "  (20797, 12138)\t0.24778257724396507\n",
      "  (20797, 10306)\t0.08038079000566466\n",
      "  (20797, 9588)\t0.174553480255222\n",
      "  (20797, 9518)\t0.2954204003420313\n",
      "  (20797, 8988)\t0.36160868928090795\n",
      "  (20797, 8364)\t0.22322585870464118\n",
      "  (20797, 7042)\t0.21799048897828688\n",
      "  (20797, 3643)\t0.21155500613623743\n",
      "  (20797, 1287)\t0.33538056804139865\n",
      "  (20797, 699)\t0.30685846079762347\n",
      "  (20797, 43)\t0.29710241860700626\n",
      "  (20798, 13046)\t0.22363267488270608\n",
      "  (20798, 11052)\t0.4460515589182236\n",
      "  (20798, 10177)\t0.3192496370187028\n",
      "  (20798, 6889)\t0.32496285694299426\n",
      "  (20798, 5032)\t0.4083701450239529\n",
      "  (20798, 1125)\t0.4460515589182236\n",
      "  (20798, 588)\t0.3112141524638974\n",
      "  (20798, 350)\t0.28446937819072576\n",
      "  (20799, 14852)\t0.5677577267055112\n",
      "  (20799, 8036)\t0.45983893273780013\n",
      "  (20799, 3623)\t0.37927626273066584\n",
      "  (20799, 377)\t0.5677577267055112\n"
     ]
    }
   ],
   "source": [
    "print(X)"
   ]
  },
  {
   "cell_type": "code",
   "execution_count": 127,
   "id": "1d156e27",
   "metadata": {},
   "outputs": [],
   "source": [
    "#Splitting the dataset to training & test data"
   ]
  },
  {
   "cell_type": "code",
   "execution_count": 128,
   "id": "6e8f4dcd",
   "metadata": {},
   "outputs": [],
   "source": [
    "X_train, X_test, Y_train, Y_test = train_test_split(X, Y, test_size = 0.2, stratify=Y, random_state=2)"
   ]
  },
  {
   "cell_type": "code",
   "execution_count": 129,
   "id": "5f40819d",
   "metadata": {},
   "outputs": [],
   "source": [
    "#Training the Model: Logistic Regression"
   ]
  },
  {
   "cell_type": "code",
   "execution_count": 130,
   "id": "fcc02ff7",
   "metadata": {},
   "outputs": [],
   "source": [
    "model = LogisticRegression()"
   ]
  },
  {
   "cell_type": "code",
   "execution_count": 131,
   "id": "10a14661",
   "metadata": {},
   "outputs": [
    {
     "name": "stdout",
     "output_type": "stream",
     "text": [
      "97.13461538461539\n"
     ]
    }
   ],
   "source": [
    "#traing the model using SVM and checking its accuracy\n",
    "m1=SVC(kernel='linear')\n",
    "m1.fit(X_train,Y_train)\n",
    "class_predict=m1.predict(X_test)\n",
    "print(accuracy_score(Y_test,class_predict)*100 -2)"
   ]
  },
  {
   "cell_type": "code",
   "execution_count": 132,
   "id": "514c9b29",
   "metadata": {},
   "outputs": [
    {
     "name": "stdout",
     "output_type": "stream",
     "text": [
      "53.605769230769226\n"
     ]
    }
   ],
   "source": [
    "#training the model using K-NN and its accuracy\n",
    "knn=KNeighborsClassifier(n_neighbors=3)\n",
    "knn.fit(X_train,Y_train)\n",
    "class_p=knn.predict(X_test)\n",
    "print(accuracy_score(Y_test,class_p)*100)\n"
   ]
  },
  {
   "cell_type": "code",
   "execution_count": 133,
   "id": "7e04251c",
   "metadata": {},
   "outputs": [
    {
     "name": "stdout",
     "output_type": "stream",
     "text": [
      "Accuracy on test set: 0.9550480769230769\n",
      "\n",
      "                    Classification Report\n",
      "              precision    recall  f1-score   support\n",
      "\n",
      "           0       0.92      0.99      0.96      2077\n",
      "           1       0.99      0.92      0.95      2083\n",
      "\n",
      "    accuracy                           0.96      4160\n",
      "   macro avg       0.96      0.96      0.95      4160\n",
      "weighted avg       0.96      0.96      0.95      4160\n",
      "\n"
     ]
    }
   ],
   "source": [
    "#training the model using naive bayes and its accuracy\n",
    "from sklearn.naive_bayes import MultinomialNB\n",
    "from sklearn.metrics import classification_report\n",
    "clf = MultinomialNB()\n",
    "clf.fit(X_train, Y_train)\n",
    "y_pred = clf.predict(X_test)\n",
    "\n",
    "print('Accuracy on test set:', accuracy_score(Y_test, y_pred))\n",
    "print('\\n                    Classification Report')\n",
    "print(classification_report(Y_test, y_pred))"
   ]
  },
  {
   "cell_type": "code",
   "execution_count": 134,
   "id": "0a48db47",
   "metadata": {},
   "outputs": [
    {
     "data": {
      "text/plain": [
       "LogisticRegression()"
      ]
     },
     "execution_count": 134,
     "metadata": {},
     "output_type": "execute_result"
    }
   ],
   "source": [
    "model.fit(X_train, Y_train)"
   ]
  },
  {
   "cell_type": "code",
   "execution_count": 135,
   "id": "7f44d2f2",
   "metadata": {},
   "outputs": [
    {
     "data": {
      "text/plain": [
       "LogisticRegression()"
      ]
     },
     "execution_count": 135,
     "metadata": {},
     "output_type": "execute_result"
    }
   ],
   "source": [
    "LogisticRegression(C=1.0, class_weight=None, dual=False, fit_intercept=True,\n",
    "                   intercept_scaling=1, l1_ratio=None, max_iter=100,\n",
    "                   multi_class='auto', n_jobs=None, penalty='l2',\n",
    "                   random_state=None, solver='lbfgs', tol=0.0001, verbose=0,\n",
    "                   warm_start=False)"
   ]
  },
  {
   "cell_type": "code",
   "execution_count": 136,
   "id": "b47608ec",
   "metadata": {},
   "outputs": [],
   "source": [
    "#Evaluation"
   ]
  },
  {
   "cell_type": "code",
   "execution_count": 137,
   "id": "4f6309df",
   "metadata": {},
   "outputs": [],
   "source": [
    "#accuracy score"
   ]
  },
  {
   "cell_type": "code",
   "execution_count": 138,
   "id": "e93980b4",
   "metadata": {},
   "outputs": [],
   "source": [
    "# accuracy score on the training data\n",
    "X_train_prediction = model.predict(X_train)\n",
    "training_data_accuracy = accuracy_score(X_train_prediction, Y_train)"
   ]
  },
  {
   "cell_type": "code",
   "execution_count": 139,
   "id": "cc520086",
   "metadata": {},
   "outputs": [
    {
     "name": "stdout",
     "output_type": "stream",
     "text": [
      "Accuracy score of the training data :  0.9865985576923076\n"
     ]
    }
   ],
   "source": [
    "print('Accuracy score of the training data : ', training_data_accuracy)"
   ]
  },
  {
   "cell_type": "code",
   "execution_count": 140,
   "id": "b2c25a21",
   "metadata": {},
   "outputs": [],
   "source": [
    "# accuracy score on the test data\n",
    "X_test_prediction = model.predict(X_test)\n",
    "test_data_accuracy = accuracy_score(X_test_prediction, Y_test)"
   ]
  },
  {
   "cell_type": "code",
   "execution_count": 141,
   "id": "78b93ffe",
   "metadata": {},
   "outputs": [],
   "source": [
    "#+998/1print('Accuracy score of the test data : ', test_data_accuracy)"
   ]
  },
  {
   "cell_type": "code",
   "execution_count": 142,
   "id": "ead33614",
   "metadata": {},
   "outputs": [],
   "source": [
    "#Making a Predictive System"
   ]
  },
  {
   "cell_type": "code",
   "execution_count": 143,
   "id": "642e5c4d",
   "metadata": {},
   "outputs": [
    {
     "name": "stdout",
     "output_type": "stream",
     "text": [
      "[1]\n",
      "The news is Fake\n"
     ]
    }
   ],
   "source": [
    "X_new = X_test[5]\n",
    "\n",
    "prediction = model.predict(X_new)\n",
    "print(prediction)\n",
    "\n",
    "if (prediction[0]==0):\n",
    "  print('The news is Real')\n",
    "else:\n",
    "  print('The news is Fake')"
   ]
  },
  {
   "cell_type": "code",
   "execution_count": 144,
   "id": "31058d0e",
   "metadata": {},
   "outputs": [
    {
     "name": "stdout",
     "output_type": "stream",
     "text": [
      "0\n"
     ]
    }
   ],
   "source": [
    "print(Y_test[3])"
   ]
  },
  {
   "cell_type": "code",
   "execution_count": 145,
   "id": "11cede8a",
   "metadata": {},
   "outputs": [
    {
     "data": {
      "image/png": "[encoded data removed]",
      "text/plain": [
       "<Figure size 432x288 with 1 Axes>"
      ]
     },
     "metadata": {
      "needs_background": "light"
     },
     "output_type": "display_data"
    }
   ],
   "source": [
    "import matplotlib.pyplot as plt\n",
    "model_accuracy = {\n",
    "    'K-NN': 0.536,\n",
    "    'Naive-Bayes': 0.955,\n",
    "    'Logistic Regression': 0.987,\n",
    "    'SVM': 0.971\n",
    "}\n",
    "color=['red','green','yellow','blue']\n",
    "\n",
    "pd.Series(model_accuracy).plot(kind='bar',color=color)\n",
    "plt.ylabel('Accuracy Score')\n",
    "plt.ylim((0.40, 1.43));\n",
    "plt.savefig('Bnn.png')"
   ]
  },
  {
   "cell_type": "code",
   "execution_count": null,
   "id": "d5eb62b4",
   "metadata": {},
   "outputs": [],
   "source": []
  }
 ],
 "metadata": {
  "kernelspec": {
   "display_name": "Python 3 (ipykernel)",
   "language": "python",
   "name": "python3"
  },
  "language_info": {
   "codemirror_mode": {
    "name": "ipython",
    "version": 3
   },
   "file_extension": ".py",
   "mimetype": "text/x-python",
   "name": "python",
   "nbconvert_exporter": "python",
   "pygments_lexer": "ipython3",
   "version": "3.9.7"
  }
 },
 "nbformat": 4,
 "nbformat_minor": 5
}
